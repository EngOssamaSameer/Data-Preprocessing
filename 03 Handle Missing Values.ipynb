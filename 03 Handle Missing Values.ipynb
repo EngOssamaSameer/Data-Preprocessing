{
 "cells": [
  {
   "cell_type": "markdown",
   "id": "fb1cd8af",
   "metadata": {},
   "source": [
    "# Handle Missing Values"
   ]
  },
  {
   "cell_type": "code",
   "execution_count": 1,
   "id": "023b6359",
   "metadata": {},
   "outputs": [],
   "source": [
    "import pandas as pd"
   ]
  },
  {
   "cell_type": "code",
   "execution_count": 10,
   "id": "99261ebb",
   "metadata": {},
   "outputs": [],
   "source": [
    "df = pd.read_csv('Dataset salary 2024 messing.csv')"
   ]
  },
  {
   "cell_type": "code",
   "execution_count": 11,
   "id": "f5179105",
   "metadata": {},
   "outputs": [
    {
     "data": {
      "text/html": [
       "<div>\n",
       "<style scoped>\n",
       "    .dataframe tbody tr th:only-of-type {\n",
       "        vertical-align: middle;\n",
       "    }\n",
       "\n",
       "    .dataframe tbody tr th {\n",
       "        vertical-align: top;\n",
       "    }\n",
       "\n",
       "    .dataframe thead th {\n",
       "        text-align: right;\n",
       "    }\n",
       "</style>\n",
       "<table border=\"1\" class=\"dataframe\">\n",
       "  <thead>\n",
       "    <tr style=\"text-align: right;\">\n",
       "      <th></th>\n",
       "      <th>work_year</th>\n",
       "      <th>experience_level</th>\n",
       "      <th>employment_type</th>\n",
       "      <th>job_title</th>\n",
       "      <th>salary</th>\n",
       "      <th>salary_currency</th>\n",
       "      <th>salary_in_usd</th>\n",
       "      <th>employee_residence</th>\n",
       "      <th>remote_ratio</th>\n",
       "      <th>company_location</th>\n",
       "      <th>company_size</th>\n",
       "    </tr>\n",
       "  </thead>\n",
       "  <tbody>\n",
       "    <tr>\n",
       "      <th>0</th>\n",
       "      <td>2024.0</td>\n",
       "      <td>SE</td>\n",
       "      <td>FT</td>\n",
       "      <td>AI Engineer</td>\n",
       "      <td>202730.0</td>\n",
       "      <td>USD</td>\n",
       "      <td>202730.0</td>\n",
       "      <td>US</td>\n",
       "      <td>0.0</td>\n",
       "      <td>US</td>\n",
       "      <td>M</td>\n",
       "    </tr>\n",
       "    <tr>\n",
       "      <th>1</th>\n",
       "      <td>2024.0</td>\n",
       "      <td>SE</td>\n",
       "      <td>FT</td>\n",
       "      <td>AI Engineer</td>\n",
       "      <td>92118.0</td>\n",
       "      <td>USD</td>\n",
       "      <td>92118.0</td>\n",
       "      <td>US</td>\n",
       "      <td>0.0</td>\n",
       "      <td>US</td>\n",
       "      <td>M</td>\n",
       "    </tr>\n",
       "    <tr>\n",
       "      <th>2</th>\n",
       "      <td>2024.0</td>\n",
       "      <td>SE</td>\n",
       "      <td>FT</td>\n",
       "      <td>Data Engineer</td>\n",
       "      <td>130500.0</td>\n",
       "      <td>USD</td>\n",
       "      <td>130500.0</td>\n",
       "      <td>US</td>\n",
       "      <td>0.0</td>\n",
       "      <td>US</td>\n",
       "      <td>M</td>\n",
       "    </tr>\n",
       "    <tr>\n",
       "      <th>3</th>\n",
       "      <td>NaN</td>\n",
       "      <td>SE</td>\n",
       "      <td>FT</td>\n",
       "      <td>Data Engineer</td>\n",
       "      <td>96000.0</td>\n",
       "      <td>USD</td>\n",
       "      <td>96000.0</td>\n",
       "      <td>US</td>\n",
       "      <td>0.0</td>\n",
       "      <td>US</td>\n",
       "      <td>M</td>\n",
       "    </tr>\n",
       "    <tr>\n",
       "      <th>4</th>\n",
       "      <td>2024.0</td>\n",
       "      <td>SE</td>\n",
       "      <td>FT</td>\n",
       "      <td>NaN</td>\n",
       "      <td>190000.0</td>\n",
       "      <td>USD</td>\n",
       "      <td>190000.0</td>\n",
       "      <td>US</td>\n",
       "      <td>0.0</td>\n",
       "      <td>US</td>\n",
       "      <td>M</td>\n",
       "    </tr>\n",
       "  </tbody>\n",
       "</table>\n",
       "</div>"
      ],
      "text/plain": [
       "   work_year experience_level employment_type      job_title    salary  \\\n",
       "0     2024.0               SE              FT    AI Engineer  202730.0   \n",
       "1     2024.0               SE              FT    AI Engineer   92118.0   \n",
       "2     2024.0               SE              FT  Data Engineer  130500.0   \n",
       "3        NaN               SE              FT  Data Engineer   96000.0   \n",
       "4     2024.0               SE              FT            NaN  190000.0   \n",
       "\n",
       "  salary_currency  salary_in_usd employee_residence  remote_ratio  \\\n",
       "0             USD       202730.0                 US           0.0   \n",
       "1             USD        92118.0                 US           0.0   \n",
       "2             USD       130500.0                 US           0.0   \n",
       "3             USD        96000.0                 US           0.0   \n",
       "4             USD       190000.0                 US           0.0   \n",
       "\n",
       "  company_location company_size  \n",
       "0               US            M  \n",
       "1               US            M  \n",
       "2               US            M  \n",
       "3               US            M  \n",
       "4               US            M  "
      ]
     },
     "execution_count": 11,
     "metadata": {},
     "output_type": "execute_result"
    }
   ],
   "source": [
    "df.head()"
   ]
  },
  {
   "cell_type": "code",
   "execution_count": 6,
   "id": "b86dba09",
   "metadata": {},
   "outputs": [
    {
     "name": "stdout",
     "output_type": "stream",
     "text": [
      "\n",
      "Missing values in each column:\n",
      " work_year             5\n",
      "experience_level      1\n",
      "employment_type       5\n",
      "job_title             2\n",
      "salary                4\n",
      "salary_currency       1\n",
      "salary_in_usd         3\n",
      "employee_residence    0\n",
      "remote_ratio          9\n",
      "company_location      4\n",
      "company_size          3\n",
      "dtype: int64\n"
     ]
    }
   ],
   "source": [
    "# Check for missing values\n",
    "missing_values = df.isnull().sum()\n",
    "print(\"\\nMissing values in each column:\\n\", missing_values)"
   ]
  },
  {
   "cell_type": "markdown",
   "id": "34b18aac",
   "metadata": {},
   "source": [
    "# using mean for numerical columns"
   ]
  },
  {
   "cell_type": "code",
   "execution_count": 8,
   "id": "9f33fb2b",
   "metadata": {},
   "outputs": [],
   "source": [
    "# Mean imputation for numerical columns\n",
    "for column in df.columns:\n",
    "    if df[column].dtype in ['int64', 'float64']:\n",
    "        df[column].fillna(df[column].mean(), inplace=True)"
   ]
  },
  {
   "cell_type": "code",
   "execution_count": 12,
   "id": "057f9eb1",
   "metadata": {},
   "outputs": [
    {
     "data": {
      "text/plain": [
       "work_year             5\n",
       "experience_level      1\n",
       "employment_type       5\n",
       "job_title             2\n",
       "salary                4\n",
       "salary_currency       1\n",
       "salary_in_usd         3\n",
       "employee_residence    0\n",
       "remote_ratio          9\n",
       "company_location      4\n",
       "company_size          3\n",
       "dtype: int64"
      ]
     },
     "execution_count": 12,
     "metadata": {},
     "output_type": "execute_result"
    }
   ],
   "source": [
    "# Check for missing values\n",
    "df.isnull().sum()"
   ]
  },
  {
   "cell_type": "markdown",
   "id": "a37dc34c",
   "metadata": {},
   "source": [
    "# using median for numerical column"
   ]
  },
  {
   "cell_type": "code",
   "execution_count": 13,
   "id": "f345beb8",
   "metadata": {},
   "outputs": [],
   "source": [
    "# median imputation for numerical columns\n",
    "for column in df.columns:\n",
    "    if df[column].dtype in ['int64', 'float64']:\n",
    "        df[column].fillna(df[column].median(), inplace=True)"
   ]
  },
  {
   "cell_type": "code",
   "execution_count": 14,
   "id": "88819794",
   "metadata": {},
   "outputs": [
    {
     "data": {
      "text/plain": [
       "work_year             0\n",
       "experience_level      1\n",
       "employment_type       5\n",
       "job_title             2\n",
       "salary                0\n",
       "salary_currency       1\n",
       "salary_in_usd         0\n",
       "employee_residence    0\n",
       "remote_ratio          0\n",
       "company_location      4\n",
       "company_size          3\n",
       "dtype: int64"
      ]
     },
     "execution_count": 14,
     "metadata": {},
     "output_type": "execute_result"
    }
   ],
   "source": [
    "# Check for missing values\n",
    "df.isnull().sum()"
   ]
  },
  {
   "cell_type": "markdown",
   "id": "30f73881",
   "metadata": {},
   "source": [
    "# using mode for categorical columns"
   ]
  },
  {
   "cell_type": "code",
   "execution_count": 15,
   "id": "a430f027",
   "metadata": {},
   "outputs": [
    {
     "name": "stdout",
     "output_type": "stream",
     "text": [
      "\n",
      "Mode for 'experience_level': SE\n",
      "\n",
      "Mode for 'employment_type': FT\n",
      "\n",
      "Mode for 'job_title': Data Engineer\n",
      "\n",
      "Mode for 'salary_currency': USD\n",
      "\n",
      "Mode for 'employee_residence': US\n",
      "\n",
      "Mode for 'company_location': US\n",
      "\n",
      "Mode for 'company_size': M\n"
     ]
    }
   ],
   "source": [
    "for column in df.columns:\n",
    "    if df[column].dtype in ['object']:\n",
    "        mode_value = df[column].mode()[0]\n",
    "        print(f\"\\nMode for '{column}': {mode_value}\")"
   ]
  },
  {
   "cell_type": "code",
   "execution_count": 16,
   "id": "c6567b62",
   "metadata": {},
   "outputs": [],
   "source": [
    "# mode imputation for numerical columns\n",
    "for column in df.columns:\n",
    "    if df[column].dtype in ['object']:\n",
    "        df[column].fillna(df[column].mode()[0], inplace=True)"
   ]
  },
  {
   "cell_type": "code",
   "execution_count": 17,
   "id": "787d9bc0",
   "metadata": {},
   "outputs": [
    {
     "data": {
      "text/plain": [
       "work_year             0\n",
       "experience_level      0\n",
       "employment_type       0\n",
       "job_title             0\n",
       "salary                0\n",
       "salary_currency       0\n",
       "salary_in_usd         0\n",
       "employee_residence    0\n",
       "remote_ratio          0\n",
       "company_location      0\n",
       "company_size          0\n",
       "dtype: int64"
      ]
     },
     "execution_count": 17,
     "metadata": {},
     "output_type": "execute_result"
    }
   ],
   "source": [
    "# Check for missing values\n",
    "df.isnull().sum()"
   ]
  },
  {
   "cell_type": "code",
   "execution_count": null,
   "id": "f61395a5",
   "metadata": {},
   "outputs": [],
   "source": []
  }
 ],
 "metadata": {
  "kernelspec": {
   "display_name": "Python 3 (ipykernel)",
   "language": "python",
   "name": "python3"
  },
  "language_info": {
   "codemirror_mode": {
    "name": "ipython",
    "version": 3
   },
   "file_extension": ".py",
   "mimetype": "text/x-python",
   "name": "python",
   "nbconvert_exporter": "python",
   "pygments_lexer": "ipython3",
   "version": "3.11.5"
  }
 },
 "nbformat": 4,
 "nbformat_minor": 5
}
