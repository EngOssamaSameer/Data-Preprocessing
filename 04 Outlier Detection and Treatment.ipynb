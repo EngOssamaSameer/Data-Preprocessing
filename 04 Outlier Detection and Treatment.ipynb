{
 "cells": [
  {
   "cell_type": "markdown",
   "id": "bd44e6d6",
   "metadata": {},
   "source": [
    "# Outlier Detection and Treatment"
   ]
  },
  {
   "cell_type": "code",
   "execution_count": 22,
   "id": "0526f818",
   "metadata": {},
   "outputs": [],
   "source": [
    "import pandas as pd\n",
    "import numpy as np"
   ]
  },
  {
   "cell_type": "code",
   "execution_count": 23,
   "id": "3469f3fc",
   "metadata": {},
   "outputs": [],
   "source": [
    "dataset = pd.read_csv(\"Dataset salary 2024 outlier.csv\")"
   ]
  },
  {
   "cell_type": "code",
   "execution_count": 25,
   "id": "e0dffc44",
   "metadata": {},
   "outputs": [
    {
     "data": {
      "text/html": [
       "<div>\n",
       "<style scoped>\n",
       "    .dataframe tbody tr th:only-of-type {\n",
       "        vertical-align: middle;\n",
       "    }\n",
       "\n",
       "    .dataframe tbody tr th {\n",
       "        vertical-align: top;\n",
       "    }\n",
       "\n",
       "    .dataframe thead th {\n",
       "        text-align: right;\n",
       "    }\n",
       "</style>\n",
       "<table border=\"1\" class=\"dataframe\">\n",
       "  <thead>\n",
       "    <tr style=\"text-align: right;\">\n",
       "      <th></th>\n",
       "      <th>work_year</th>\n",
       "      <th>experience_level</th>\n",
       "      <th>employment_type</th>\n",
       "      <th>job_title</th>\n",
       "      <th>salary</th>\n",
       "      <th>salary_currency</th>\n",
       "      <th>salary_in_usd</th>\n",
       "      <th>employee_residence</th>\n",
       "      <th>remote_ratio</th>\n",
       "      <th>company_location</th>\n",
       "      <th>company_size</th>\n",
       "    </tr>\n",
       "  </thead>\n",
       "  <tbody>\n",
       "    <tr>\n",
       "      <th>0</th>\n",
       "      <td>2024.0</td>\n",
       "      <td>SE</td>\n",
       "      <td>FT</td>\n",
       "      <td>AI Engineer</td>\n",
       "      <td>2.027304e+10</td>\n",
       "      <td>USD</td>\n",
       "      <td>202730.0</td>\n",
       "      <td>US</td>\n",
       "      <td>0.0</td>\n",
       "      <td>US</td>\n",
       "      <td>M</td>\n",
       "    </tr>\n",
       "    <tr>\n",
       "      <th>1</th>\n",
       "      <td>2024.0</td>\n",
       "      <td>SE</td>\n",
       "      <td>FT</td>\n",
       "      <td>AI Engineer</td>\n",
       "      <td>9.211800e+04</td>\n",
       "      <td>USD</td>\n",
       "      <td>92118.0</td>\n",
       "      <td>US</td>\n",
       "      <td>0.0</td>\n",
       "      <td>US</td>\n",
       "      <td>M</td>\n",
       "    </tr>\n",
       "    <tr>\n",
       "      <th>2</th>\n",
       "      <td>2024.0</td>\n",
       "      <td>SE</td>\n",
       "      <td>FT</td>\n",
       "      <td>Data Engineer</td>\n",
       "      <td>1.305000e+05</td>\n",
       "      <td>USD</td>\n",
       "      <td>130500.0</td>\n",
       "      <td>US</td>\n",
       "      <td>0.0</td>\n",
       "      <td>US</td>\n",
       "      <td>M</td>\n",
       "    </tr>\n",
       "    <tr>\n",
       "      <th>3</th>\n",
       "      <td>NaN</td>\n",
       "      <td>SE</td>\n",
       "      <td>FT</td>\n",
       "      <td>Data Engineer</td>\n",
       "      <td>9.600000e+04</td>\n",
       "      <td>USD</td>\n",
       "      <td>96000.0</td>\n",
       "      <td>US</td>\n",
       "      <td>0.0</td>\n",
       "      <td>US</td>\n",
       "      <td>M</td>\n",
       "    </tr>\n",
       "    <tr>\n",
       "      <th>4</th>\n",
       "      <td>2024.0</td>\n",
       "      <td>SE</td>\n",
       "      <td>FT</td>\n",
       "      <td>NaN</td>\n",
       "      <td>-4.444440e+11</td>\n",
       "      <td>USD</td>\n",
       "      <td>190000.0</td>\n",
       "      <td>US</td>\n",
       "      <td>0.0</td>\n",
       "      <td>US</td>\n",
       "      <td>M</td>\n",
       "    </tr>\n",
       "  </tbody>\n",
       "</table>\n",
       "</div>"
      ],
      "text/plain": [
       "   work_year experience_level employment_type      job_title        salary  \\\n",
       "0     2024.0               SE              FT    AI Engineer  2.027304e+10   \n",
       "1     2024.0               SE              FT    AI Engineer  9.211800e+04   \n",
       "2     2024.0               SE              FT  Data Engineer  1.305000e+05   \n",
       "3        NaN               SE              FT  Data Engineer  9.600000e+04   \n",
       "4     2024.0               SE              FT            NaN -4.444440e+11   \n",
       "\n",
       "  salary_currency  salary_in_usd employee_residence  remote_ratio  \\\n",
       "0             USD       202730.0                 US           0.0   \n",
       "1             USD        92118.0                 US           0.0   \n",
       "2             USD       130500.0                 US           0.0   \n",
       "3             USD        96000.0                 US           0.0   \n",
       "4             USD       190000.0                 US           0.0   \n",
       "\n",
       "  company_location company_size  \n",
       "0               US            M  \n",
       "1               US            M  \n",
       "2               US            M  \n",
       "3               US            M  \n",
       "4               US            M  "
      ]
     },
     "execution_count": 25,
     "metadata": {},
     "output_type": "execute_result"
    }
   ],
   "source": [
    "dataset.head()"
   ]
  },
  {
   "cell_type": "code",
   "execution_count": 26,
   "id": "44cb91fc",
   "metadata": {},
   "outputs": [
    {
     "data": {
      "text/plain": [
       "work_year             5\n",
       "experience_level      1\n",
       "employment_type       5\n",
       "job_title             2\n",
       "salary                4\n",
       "salary_currency       1\n",
       "salary_in_usd         3\n",
       "employee_residence    0\n",
       "remote_ratio          9\n",
       "company_location      4\n",
       "company_size          3\n",
       "dtype: int64"
      ]
     },
     "execution_count": 26,
     "metadata": {},
     "output_type": "execute_result"
    }
   ],
   "source": [
    "dataset.isnull().sum()"
   ]
  },
  {
   "cell_type": "code",
   "execution_count": 27,
   "id": "0e2e4fab",
   "metadata": {},
   "outputs": [
    {
     "name": "stdout",
     "output_type": "stream",
     "text": [
      "<class 'pandas.core.frame.DataFrame'>\n",
      "RangeIndex: 16534 entries, 0 to 16533\n",
      "Data columns (total 11 columns):\n",
      " #   Column              Non-Null Count  Dtype  \n",
      "---  ------              --------------  -----  \n",
      " 0   work_year           16529 non-null  float64\n",
      " 1   experience_level    16533 non-null  object \n",
      " 2   employment_type     16529 non-null  object \n",
      " 3   job_title           16532 non-null  object \n",
      " 4   salary              16530 non-null  float64\n",
      " 5   salary_currency     16533 non-null  object \n",
      " 6   salary_in_usd       16531 non-null  float64\n",
      " 7   employee_residence  16534 non-null  object \n",
      " 8   remote_ratio        16525 non-null  float64\n",
      " 9   company_location    16530 non-null  object \n",
      " 10  company_size        16531 non-null  object \n",
      "dtypes: float64(4), object(7)\n",
      "memory usage: 1.4+ MB\n"
     ]
    }
   ],
   "source": [
    "dataset.info()"
   ]
  },
  {
   "cell_type": "code",
   "execution_count": 28,
   "id": "479f6cfd",
   "metadata": {},
   "outputs": [],
   "source": [
    "for column in dataset.columns:\n",
    "    if dataset[column].dtype in ['int64', 'float64']:\n",
    "        dataset[column].fillna(dataset[column].mean(),inplace = True)"
   ]
  },
  {
   "cell_type": "code",
   "execution_count": 29,
   "id": "f23e26ef",
   "metadata": {},
   "outputs": [],
   "source": [
    "for column in dataset.columns:\n",
    "    if dataset[column].dtype in ['object']:\n",
    "        dataset[column].fillna(dataset[column].mode()[0],inplace = True)"
   ]
  },
  {
   "cell_type": "code",
   "execution_count": 30,
   "id": "24fdf07e",
   "metadata": {},
   "outputs": [
    {
     "data": {
      "text/plain": [
       "work_year             0\n",
       "experience_level      0\n",
       "employment_type       0\n",
       "job_title             0\n",
       "salary                0\n",
       "salary_currency       0\n",
       "salary_in_usd         0\n",
       "employee_residence    0\n",
       "remote_ratio          0\n",
       "company_location      0\n",
       "company_size          0\n",
       "dtype: int64"
      ]
     },
     "execution_count": 30,
     "metadata": {},
     "output_type": "execute_result"
    }
   ],
   "source": [
    "dataset.isnull().sum()"
   ]
  },
  {
   "cell_type": "code",
   "execution_count": 31,
   "id": "548da731",
   "metadata": {
    "scrolled": true
   },
   "outputs": [
    {
     "name": "stdout",
     "output_type": "stream",
     "text": [
      "<class 'pandas.core.frame.DataFrame'>\n",
      "RangeIndex: 16534 entries, 0 to 16533\n",
      "Data columns (total 11 columns):\n",
      " #   Column              Non-Null Count  Dtype  \n",
      "---  ------              --------------  -----  \n",
      " 0   work_year           16534 non-null  float64\n",
      " 1   experience_level    16534 non-null  object \n",
      " 2   employment_type     16534 non-null  object \n",
      " 3   job_title           16534 non-null  object \n",
      " 4   salary              16534 non-null  float64\n",
      " 5   salary_currency     16534 non-null  object \n",
      " 6   salary_in_usd       16534 non-null  float64\n",
      " 7   employee_residence  16534 non-null  object \n",
      " 8   remote_ratio        16534 non-null  float64\n",
      " 9   company_location    16534 non-null  object \n",
      " 10  company_size        16534 non-null  object \n",
      "dtypes: float64(4), object(7)\n",
      "memory usage: 1.4+ MB\n"
     ]
    }
   ],
   "source": [
    "dataset.info()"
   ]
  },
  {
   "cell_type": "markdown",
   "id": "ec2dd749",
   "metadata": {},
   "source": [
    "# Outlier"
   ]
  },
  {
   "cell_type": "markdown",
   "id": "e3ff9522",
   "metadata": {},
   "source": [
    "### IQR"
   ]
  },
  {
   "cell_type": "code",
   "execution_count": 32,
   "id": "5aca45b1",
   "metadata": {},
   "outputs": [
    {
     "name": "stdout",
     "output_type": "stream",
     "text": [
      "Numerical columns: Index(['work_year', 'salary', 'salary_in_usd', 'remote_ratio'], dtype='object')\n"
     ]
    }
   ],
   "source": [
    "# Identify numerical columns\n",
    "numerical_columns = dataset.select_dtypes(include=[np.number]).columns\n",
    "print(f\"Numerical columns: {numerical_columns}\")"
   ]
  },
  {
   "cell_type": "code",
   "execution_count": 33,
   "id": "aa9e2332",
   "metadata": {},
   "outputs": [],
   "source": [
    "# Calculate quartiles and IQR for each column\n",
    "Q1 = dataset[numerical_columns].quantile(0.25)\n",
    "Q3 = dataset[numerical_columns].quantile(0.75)\n",
    "IQR = Q3 - Q1\n"
   ]
  },
  {
   "cell_type": "code",
   "execution_count": 34,
   "id": "7812f1c8",
   "metadata": {},
   "outputs": [],
   "source": [
    "# Define the boundaries to identify outliers for each column\n",
    "lower_bound = Q1 - 1.5 * IQR\n",
    "upper_bound = Q3 + 1.5 * IQR"
   ]
  },
  {
   "cell_type": "code",
   "execution_count": 35,
   "id": "71915d4e",
   "metadata": {},
   "outputs": [
    {
     "name": "stdout",
     "output_type": "stream",
     "text": [
      "\n",
      "Outliers below lower bound in column 'work_year':\n",
      "9198     2020.0\n",
      "9401     2020.0\n",
      "11233    2021.0\n",
      "11234    2020.0\n",
      "11711    2020.0\n",
      "          ...  \n",
      "16528    2021.0\n",
      "16529    2020.0\n",
      "16530    2021.0\n",
      "16531    2020.0\n",
      "16532    2020.0\n",
      "Name: work_year, Length: 290, dtype: float64\n",
      "\n",
      "Outliers below lower bound in column 'salary':\n",
      "4     -4.444440e+11\n",
      "8     -2.549697e+07\n",
      "15    -2.549697e+07\n",
      "517   -2.549697e+07\n",
      "577   -2.549697e+07\n",
      "Name: salary, dtype: float64\n",
      "\n",
      "Outliers above upper bound in column 'salary':\n",
      "0        2.027304e+10\n",
      "6        4.000000e+05\n",
      "145      8.000000e+05\n",
      "309      3.850000e+05\n",
      "385      3.700000e+05\n",
      "             ...     \n",
      "16509    1.335000e+06\n",
      "16514    1.450000e+06\n",
      "16526    4.230000e+05\n",
      "16529    4.120000e+05\n",
      "16533    7.000000e+06\n",
      "Name: salary, Length: 346, dtype: float64\n",
      "\n",
      "Outliers above upper bound in column 'salary_in_usd':\n",
      "6        4.000000e+05\n",
      "14       6.794643e+10\n",
      "52       1.123220e+15\n",
      "309      3.850000e+05\n",
      "385      3.700000e+05\n",
      "             ...     \n",
      "16316    4.500000e+05\n",
      "16461    4.160000e+05\n",
      "16480    3.250000e+05\n",
      "16526    4.230000e+05\n",
      "16529    4.120000e+05\n",
      "Name: salary_in_usd, Length: 289, dtype: float64\n",
      "\n",
      "Outliers above upper bound in column 'remote_ratio':\n",
      "14     1.000000e+09\n",
      "15     6.054636e+04\n",
      "218    6.054636e+04\n",
      "221    6.054636e+04\n",
      "224    6.054636e+04\n",
      "243    6.054636e+04\n",
      "267    6.054636e+04\n",
      "282    6.054636e+04\n",
      "337    6.054636e+04\n",
      "399    6.054636e+04\n",
      "Name: remote_ratio, dtype: float64\n"
     ]
    }
   ],
   "source": [
    "# Print and handle outliers for each numerical column\n",
    "for col in dataset[numerical_columns]:\n",
    "    outliers_below = dataset[col] < lower_bound[col]\n",
    "    outliers_above = dataset[col] > upper_bound[col]\n",
    "    \n",
    "    # Print outliers below the lower bound\n",
    "    if outliers_below.any():\n",
    "        print(f\"\\nOutliers below lower bound in column '{col}':\")\n",
    "        print(dataset.loc[outliers_below, col])\n",
    "    \n",
    "    # Print outliers above the upper bound\n",
    "    if outliers_above.any():\n",
    "        print(f\"\\nOutliers above upper bound in column '{col}':\")\n",
    "        print(dataset.loc[outliers_above, col])"
   ]
  },
  {
   "cell_type": "code",
   "execution_count": 36,
   "id": "b4180e78",
   "metadata": {},
   "outputs": [],
   "source": [
    "# Handling outliers using NumPy for each column\n",
    "for col in dataset[numerical_columns]:\n",
    "    dataset[col] = np.where(dataset[col] < lower_bound[col], lower_bound[col], np.where(dataset[col] > upper_bound[col], upper_bound[col], dataset[col]))"
   ]
  },
  {
   "cell_type": "code",
   "execution_count": 37,
   "id": "d253e3f1",
   "metadata": {},
   "outputs": [],
   "source": [
    "# Print and handle outliers for each numerical column\n",
    "for col in dataset[numerical_columns]:\n",
    "    outliers_below = dataset[col] < lower_bound[col]\n",
    "    outliers_above = dataset[col] > upper_bound[col]\n",
    "    \n",
    "    # Print outliers below the lower bound\n",
    "    if outliers_below.any():\n",
    "        print(f\"\\nOutliers below lower bound in column '{col}':\")\n",
    "        print(dataset.loc[outliers_below, col])\n",
    "    \n",
    "    # Print outliers above the upper bound\n",
    "    if outliers_above.any():\n",
    "        print(f\"\\nOutliers above upper bound in column '{col}':\")\n",
    "        print(dataset.loc[outliers_above, col])"
   ]
  },
  {
   "cell_type": "code",
   "execution_count": null,
   "id": "919de17b",
   "metadata": {},
   "outputs": [],
   "source": []
  }
 ],
 "metadata": {
  "kernelspec": {
   "display_name": "Python 3 (ipykernel)",
   "language": "python",
   "name": "python3"
  },
  "language_info": {
   "codemirror_mode": {
    "name": "ipython",
    "version": 3
   },
   "file_extension": ".py",
   "mimetype": "text/x-python",
   "name": "python",
   "nbconvert_exporter": "python",
   "pygments_lexer": "ipython3",
   "version": "3.11.5"
  }
 },
 "nbformat": 4,
 "nbformat_minor": 5
}
