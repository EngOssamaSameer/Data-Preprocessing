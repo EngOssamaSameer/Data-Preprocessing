{
 "cells": [
  {
   "cell_type": "markdown",
   "id": "c3955bfe",
   "metadata": {},
   "source": [
    "# Revision"
   ]
  },
  {
   "cell_type": "code",
   "execution_count": 73,
   "id": "85642ddc",
   "metadata": {},
   "outputs": [],
   "source": [
    "import pandas as pd \n",
    "import numpy as np"
   ]
  },
  {
   "cell_type": "markdown",
   "id": "f17a65e0",
   "metadata": {},
   "source": [
    "#### 1)Understand the Data"
   ]
  },
  {
   "cell_type": "code",
   "execution_count": 74,
   "id": "c993bc8e",
   "metadata": {},
   "outputs": [],
   "source": [
    "dataset = pd.read_csv('Dataset salary re.csv')"
   ]
  },
  {
   "cell_type": "code",
   "execution_count": 75,
   "id": "e3fc5845",
   "metadata": {},
   "outputs": [
    {
     "data": {
      "text/html": [
       "<div>\n",
       "<style scoped>\n",
       "    .dataframe tbody tr th:only-of-type {\n",
       "        vertical-align: middle;\n",
       "    }\n",
       "\n",
       "    .dataframe tbody tr th {\n",
       "        vertical-align: top;\n",
       "    }\n",
       "\n",
       "    .dataframe thead th {\n",
       "        text-align: right;\n",
       "    }\n",
       "</style>\n",
       "<table border=\"1\" class=\"dataframe\">\n",
       "  <thead>\n",
       "    <tr style=\"text-align: right;\">\n",
       "      <th></th>\n",
       "      <th>work_year</th>\n",
       "      <th>experience_level</th>\n",
       "      <th>employment_type</th>\n",
       "      <th>job_title</th>\n",
       "      <th>salary_currency</th>\n",
       "      <th>salary_in_usd</th>\n",
       "      <th>employee_residence</th>\n",
       "      <th>remote_ratio</th>\n",
       "      <th>company_location</th>\n",
       "      <th>company_size</th>\n",
       "      <th>Unnamed: 10</th>\n",
       "      <th>salary</th>\n",
       "    </tr>\n",
       "  </thead>\n",
       "  <tbody>\n",
       "    <tr>\n",
       "      <th>0</th>\n",
       "      <td>2024.0</td>\n",
       "      <td>SE</td>\n",
       "      <td>FT</td>\n",
       "      <td>AI Engineer</td>\n",
       "      <td>USD</td>\n",
       "      <td>202730</td>\n",
       "      <td>US</td>\n",
       "      <td>0.0</td>\n",
       "      <td>US</td>\n",
       "      <td>M</td>\n",
       "      <td>7.0</td>\n",
       "      <td>202730.0</td>\n",
       "    </tr>\n",
       "    <tr>\n",
       "      <th>1</th>\n",
       "      <td>2024.0</td>\n",
       "      <td>SE</td>\n",
       "      <td>FT</td>\n",
       "      <td>AI Engineer</td>\n",
       "      <td>USD</td>\n",
       "      <td>202730</td>\n",
       "      <td>US</td>\n",
       "      <td>0.0</td>\n",
       "      <td>US</td>\n",
       "      <td>M</td>\n",
       "      <td>7.0</td>\n",
       "      <td>202730.0</td>\n",
       "    </tr>\n",
       "    <tr>\n",
       "      <th>2</th>\n",
       "      <td>2024.0</td>\n",
       "      <td>SE</td>\n",
       "      <td>FT</td>\n",
       "      <td>AI Engineer</td>\n",
       "      <td>USD</td>\n",
       "      <td>202730</td>\n",
       "      <td>US</td>\n",
       "      <td>0.0</td>\n",
       "      <td>US</td>\n",
       "      <td>M</td>\n",
       "      <td>7.0</td>\n",
       "      <td>202730.0</td>\n",
       "    </tr>\n",
       "    <tr>\n",
       "      <th>3</th>\n",
       "      <td>2024.0</td>\n",
       "      <td>SE</td>\n",
       "      <td>FT</td>\n",
       "      <td>AI Engineer</td>\n",
       "      <td>USD</td>\n",
       "      <td>202730</td>\n",
       "      <td>US</td>\n",
       "      <td>0.0</td>\n",
       "      <td>US</td>\n",
       "      <td>M</td>\n",
       "      <td>7.0</td>\n",
       "      <td>202730.0</td>\n",
       "    </tr>\n",
       "    <tr>\n",
       "      <th>4</th>\n",
       "      <td>2024.0</td>\n",
       "      <td>SE</td>\n",
       "      <td>FT</td>\n",
       "      <td>Data Engineer</td>\n",
       "      <td>USD</td>\n",
       "      <td>130500</td>\n",
       "      <td>US</td>\n",
       "      <td>0.0</td>\n",
       "      <td>US</td>\n",
       "      <td>M</td>\n",
       "      <td>7.0</td>\n",
       "      <td>130500.0</td>\n",
       "    </tr>\n",
       "  </tbody>\n",
       "</table>\n",
       "</div>"
      ],
      "text/plain": [
       "   work_year experience_level employment_type      job_title salary_currency  \\\n",
       "0     2024.0               SE              FT    AI Engineer             USD   \n",
       "1     2024.0               SE              FT    AI Engineer             USD   \n",
       "2     2024.0               SE              FT    AI Engineer             USD   \n",
       "3     2024.0               SE              FT    AI Engineer             USD   \n",
       "4     2024.0               SE              FT  Data Engineer             USD   \n",
       "\n",
       "   salary_in_usd employee_residence  remote_ratio company_location  \\\n",
       "0         202730                 US           0.0               US   \n",
       "1         202730                 US           0.0               US   \n",
       "2         202730                 US           0.0               US   \n",
       "3         202730                 US           0.0               US   \n",
       "4         130500                 US           0.0               US   \n",
       "\n",
       "  company_size  Unnamed: 10    salary  \n",
       "0            M          7.0  202730.0  \n",
       "1            M          7.0  202730.0  \n",
       "2            M          7.0  202730.0  \n",
       "3            M          7.0  202730.0  \n",
       "4            M          7.0  130500.0  "
      ]
     },
     "execution_count": 75,
     "metadata": {},
     "output_type": "execute_result"
    }
   ],
   "source": [
    "dataset.head()"
   ]
  },
  {
   "cell_type": "code",
   "execution_count": 76,
   "id": "4e58f0fd",
   "metadata": {},
   "outputs": [
    {
     "name": "stdout",
     "output_type": "stream",
     "text": [
      "<class 'pandas.core.frame.DataFrame'>\n",
      "RangeIndex: 16536 entries, 0 to 16535\n",
      "Data columns (total 12 columns):\n",
      " #   Column              Non-Null Count  Dtype  \n",
      "---  ------              --------------  -----  \n",
      " 0   work_year           16534 non-null  float64\n",
      " 1   experience_level    16535 non-null  object \n",
      " 2   employment_type     16535 non-null  object \n",
      " 3   job_title           16536 non-null  object \n",
      " 4   salary_currency     16536 non-null  object \n",
      " 5   salary_in_usd       16536 non-null  int64  \n",
      " 6   employee_residence  16536 non-null  object \n",
      " 7   remote_ratio        16536 non-null  float64\n",
      " 8   company_location    16535 non-null  object \n",
      " 9   company_size        16536 non-null  object \n",
      " 10  Unnamed: 10         1971 non-null   float64\n",
      " 11  salary              16533 non-null  float64\n",
      "dtypes: float64(4), int64(1), object(7)\n",
      "memory usage: 1.5+ MB\n"
     ]
    }
   ],
   "source": [
    "dataset.info()"
   ]
  },
  {
   "cell_type": "markdown",
   "id": "0bbde961",
   "metadata": {},
   "source": [
    "#### 2)Remove Unnecessary Data"
   ]
  },
  {
   "cell_type": "code",
   "execution_count": 77,
   "id": "0855265c",
   "metadata": {},
   "outputs": [],
   "source": [
    "# Remove duplicate rows\n",
    "dataset.drop_duplicates(inplace=True)"
   ]
  },
  {
   "cell_type": "code",
   "execution_count": 78,
   "id": "e13a8df8",
   "metadata": {},
   "outputs": [
    {
     "data": {
      "text/html": [
       "<div>\n",
       "<style scoped>\n",
       "    .dataframe tbody tr th:only-of-type {\n",
       "        vertical-align: middle;\n",
       "    }\n",
       "\n",
       "    .dataframe tbody tr th {\n",
       "        vertical-align: top;\n",
       "    }\n",
       "\n",
       "    .dataframe thead th {\n",
       "        text-align: right;\n",
       "    }\n",
       "</style>\n",
       "<table border=\"1\" class=\"dataframe\">\n",
       "  <thead>\n",
       "    <tr style=\"text-align: right;\">\n",
       "      <th></th>\n",
       "      <th>work_year</th>\n",
       "      <th>experience_level</th>\n",
       "      <th>employment_type</th>\n",
       "      <th>job_title</th>\n",
       "      <th>salary_currency</th>\n",
       "      <th>salary_in_usd</th>\n",
       "      <th>employee_residence</th>\n",
       "      <th>remote_ratio</th>\n",
       "      <th>company_location</th>\n",
       "      <th>company_size</th>\n",
       "      <th>Unnamed: 10</th>\n",
       "      <th>salary</th>\n",
       "    </tr>\n",
       "  </thead>\n",
       "  <tbody>\n",
       "    <tr>\n",
       "      <th>0</th>\n",
       "      <td>2024.0</td>\n",
       "      <td>SE</td>\n",
       "      <td>FT</td>\n",
       "      <td>AI Engineer</td>\n",
       "      <td>USD</td>\n",
       "      <td>202730</td>\n",
       "      <td>US</td>\n",
       "      <td>0.0</td>\n",
       "      <td>US</td>\n",
       "      <td>M</td>\n",
       "      <td>7.0</td>\n",
       "      <td>202730.0</td>\n",
       "    </tr>\n",
       "    <tr>\n",
       "      <th>4</th>\n",
       "      <td>2024.0</td>\n",
       "      <td>SE</td>\n",
       "      <td>FT</td>\n",
       "      <td>Data Engineer</td>\n",
       "      <td>USD</td>\n",
       "      <td>130500</td>\n",
       "      <td>US</td>\n",
       "      <td>0.0</td>\n",
       "      <td>US</td>\n",
       "      <td>M</td>\n",
       "      <td>7.0</td>\n",
       "      <td>130500.0</td>\n",
       "    </tr>\n",
       "    <tr>\n",
       "      <th>5</th>\n",
       "      <td>2024.0</td>\n",
       "      <td>SE</td>\n",
       "      <td>FT</td>\n",
       "      <td>Data Engineer</td>\n",
       "      <td>USD</td>\n",
       "      <td>96000</td>\n",
       "      <td>US</td>\n",
       "      <td>0.0</td>\n",
       "      <td>US</td>\n",
       "      <td>M</td>\n",
       "      <td>7.0</td>\n",
       "      <td>96000.0</td>\n",
       "    </tr>\n",
       "    <tr>\n",
       "      <th>6</th>\n",
       "      <td>2024.0</td>\n",
       "      <td>SE</td>\n",
       "      <td>FT</td>\n",
       "      <td>Machine Learning Engineer</td>\n",
       "      <td>USD</td>\n",
       "      <td>190000</td>\n",
       "      <td>US</td>\n",
       "      <td>0.0</td>\n",
       "      <td>US</td>\n",
       "      <td>M</td>\n",
       "      <td>7.0</td>\n",
       "      <td>190000.0</td>\n",
       "    </tr>\n",
       "    <tr>\n",
       "      <th>7</th>\n",
       "      <td>2024.0</td>\n",
       "      <td>SE</td>\n",
       "      <td>FT</td>\n",
       "      <td>Machine Learning Engineer</td>\n",
       "      <td>USD</td>\n",
       "      <td>160000</td>\n",
       "      <td>US</td>\n",
       "      <td>0.0</td>\n",
       "      <td>US</td>\n",
       "      <td>M</td>\n",
       "      <td>7.0</td>\n",
       "      <td>160000.0</td>\n",
       "    </tr>\n",
       "  </tbody>\n",
       "</table>\n",
       "</div>"
      ],
      "text/plain": [
       "   work_year experience_level employment_type                  job_title  \\\n",
       "0     2024.0               SE              FT                AI Engineer   \n",
       "4     2024.0               SE              FT              Data Engineer   \n",
       "5     2024.0               SE              FT              Data Engineer   \n",
       "6     2024.0               SE              FT  Machine Learning Engineer   \n",
       "7     2024.0               SE              FT  Machine Learning Engineer   \n",
       "\n",
       "  salary_currency  salary_in_usd employee_residence  remote_ratio  \\\n",
       "0             USD         202730                 US           0.0   \n",
       "4             USD         130500                 US           0.0   \n",
       "5             USD          96000                 US           0.0   \n",
       "6             USD         190000                 US           0.0   \n",
       "7             USD         160000                 US           0.0   \n",
       "\n",
       "  company_location company_size  Unnamed: 10    salary  \n",
       "0               US            M          7.0  202730.0  \n",
       "4               US            M          7.0  130500.0  \n",
       "5               US            M          7.0   96000.0  \n",
       "6               US            M          7.0  190000.0  \n",
       "7               US            M          7.0  160000.0  "
      ]
     },
     "execution_count": 78,
     "metadata": {},
     "output_type": "execute_result"
    }
   ],
   "source": [
    "dataset.head()"
   ]
  },
  {
   "cell_type": "code",
   "execution_count": 79,
   "id": "a90e4c6b",
   "metadata": {},
   "outputs": [
    {
     "name": "stdout",
     "output_type": "stream",
     "text": [
      "work_year              0.018882\n",
      "experience_level       0.009441\n",
      "employment_type        0.009441\n",
      "job_title              0.000000\n",
      "salary_currency        0.000000\n",
      "salary_in_usd          0.000000\n",
      "employee_residence     0.000000\n",
      "remote_ratio           0.000000\n",
      "company_location       0.009441\n",
      "company_size           0.000000\n",
      "Unnamed: 10           84.658233\n",
      "salary                 0.028323\n",
      "dtype: float64\n"
     ]
    }
   ],
   "source": [
    "# Calculate the percentage of null values in each column\n",
    "null_percentage = dataset.isnull().mean() * 100\n",
    "\n",
    "# Display the result\n",
    "print(null_percentage)"
   ]
  },
  {
   "cell_type": "code",
   "execution_count": 83,
   "id": "6936bec2",
   "metadata": {},
   "outputs": [],
   "source": [
    "dataset = dataset.drop('Unnamed: 10', axis=1)"
   ]
  },
  {
   "cell_type": "code",
   "execution_count": 84,
   "id": "d3a7e3a4",
   "metadata": {},
   "outputs": [
    {
     "data": {
      "text/html": [
       "<div>\n",
       "<style scoped>\n",
       "    .dataframe tbody tr th:only-of-type {\n",
       "        vertical-align: middle;\n",
       "    }\n",
       "\n",
       "    .dataframe tbody tr th {\n",
       "        vertical-align: top;\n",
       "    }\n",
       "\n",
       "    .dataframe thead th {\n",
       "        text-align: right;\n",
       "    }\n",
       "</style>\n",
       "<table border=\"1\" class=\"dataframe\">\n",
       "  <thead>\n",
       "    <tr style=\"text-align: right;\">\n",
       "      <th></th>\n",
       "      <th>work_year</th>\n",
       "      <th>experience_level</th>\n",
       "      <th>employment_type</th>\n",
       "      <th>job_title</th>\n",
       "      <th>salary_currency</th>\n",
       "      <th>salary_in_usd</th>\n",
       "      <th>employee_residence</th>\n",
       "      <th>remote_ratio</th>\n",
       "      <th>company_location</th>\n",
       "      <th>company_size</th>\n",
       "      <th>salary</th>\n",
       "    </tr>\n",
       "  </thead>\n",
       "  <tbody>\n",
       "    <tr>\n",
       "      <th>0</th>\n",
       "      <td>2024.0</td>\n",
       "      <td>SE</td>\n",
       "      <td>FT</td>\n",
       "      <td>AI Engineer</td>\n",
       "      <td>USD</td>\n",
       "      <td>202730</td>\n",
       "      <td>US</td>\n",
       "      <td>0.0</td>\n",
       "      <td>US</td>\n",
       "      <td>M</td>\n",
       "      <td>202730.0</td>\n",
       "    </tr>\n",
       "    <tr>\n",
       "      <th>4</th>\n",
       "      <td>2024.0</td>\n",
       "      <td>SE</td>\n",
       "      <td>FT</td>\n",
       "      <td>Data Engineer</td>\n",
       "      <td>USD</td>\n",
       "      <td>130500</td>\n",
       "      <td>US</td>\n",
       "      <td>0.0</td>\n",
       "      <td>US</td>\n",
       "      <td>M</td>\n",
       "      <td>130500.0</td>\n",
       "    </tr>\n",
       "    <tr>\n",
       "      <th>5</th>\n",
       "      <td>2024.0</td>\n",
       "      <td>SE</td>\n",
       "      <td>FT</td>\n",
       "      <td>Data Engineer</td>\n",
       "      <td>USD</td>\n",
       "      <td>96000</td>\n",
       "      <td>US</td>\n",
       "      <td>0.0</td>\n",
       "      <td>US</td>\n",
       "      <td>M</td>\n",
       "      <td>96000.0</td>\n",
       "    </tr>\n",
       "    <tr>\n",
       "      <th>6</th>\n",
       "      <td>2024.0</td>\n",
       "      <td>SE</td>\n",
       "      <td>FT</td>\n",
       "      <td>Machine Learning Engineer</td>\n",
       "      <td>USD</td>\n",
       "      <td>190000</td>\n",
       "      <td>US</td>\n",
       "      <td>0.0</td>\n",
       "      <td>US</td>\n",
       "      <td>M</td>\n",
       "      <td>190000.0</td>\n",
       "    </tr>\n",
       "    <tr>\n",
       "      <th>7</th>\n",
       "      <td>2024.0</td>\n",
       "      <td>SE</td>\n",
       "      <td>FT</td>\n",
       "      <td>Machine Learning Engineer</td>\n",
       "      <td>USD</td>\n",
       "      <td>160000</td>\n",
       "      <td>US</td>\n",
       "      <td>0.0</td>\n",
       "      <td>US</td>\n",
       "      <td>M</td>\n",
       "      <td>160000.0</td>\n",
       "    </tr>\n",
       "  </tbody>\n",
       "</table>\n",
       "</div>"
      ],
      "text/plain": [
       "   work_year experience_level employment_type                  job_title  \\\n",
       "0     2024.0               SE              FT                AI Engineer   \n",
       "4     2024.0               SE              FT              Data Engineer   \n",
       "5     2024.0               SE              FT              Data Engineer   \n",
       "6     2024.0               SE              FT  Machine Learning Engineer   \n",
       "7     2024.0               SE              FT  Machine Learning Engineer   \n",
       "\n",
       "  salary_currency  salary_in_usd employee_residence  remote_ratio  \\\n",
       "0             USD         202730                 US           0.0   \n",
       "4             USD         130500                 US           0.0   \n",
       "5             USD          96000                 US           0.0   \n",
       "6             USD         190000                 US           0.0   \n",
       "7             USD         160000                 US           0.0   \n",
       "\n",
       "  company_location company_size    salary  \n",
       "0               US            M  202730.0  \n",
       "4               US            M  130500.0  \n",
       "5               US            M   96000.0  \n",
       "6               US            M  190000.0  \n",
       "7               US            M  160000.0  "
      ]
     },
     "execution_count": 84,
     "metadata": {},
     "output_type": "execute_result"
    }
   ],
   "source": [
    "dataset.head()"
   ]
  },
  {
   "cell_type": "markdown",
   "id": "1d1648ec",
   "metadata": {},
   "source": [
    "#### 3)Handle Missing Values"
   ]
  },
  {
   "cell_type": "code",
   "execution_count": 85,
   "id": "0a4154a0",
   "metadata": {},
   "outputs": [
    {
     "data": {
      "text/plain": [
       "work_year             2\n",
       "experience_level      1\n",
       "employment_type       1\n",
       "job_title             0\n",
       "salary_currency       0\n",
       "salary_in_usd         0\n",
       "employee_residence    0\n",
       "remote_ratio          0\n",
       "company_location      1\n",
       "company_size          0\n",
       "salary                3\n",
       "dtype: int64"
      ]
     },
     "execution_count": 85,
     "metadata": {},
     "output_type": "execute_result"
    }
   ],
   "source": [
    "# Check for missing values\n",
    "dataset.isnull().sum()"
   ]
  },
  {
   "cell_type": "code",
   "execution_count": 86,
   "id": "2b0b13e1",
   "metadata": {},
   "outputs": [],
   "source": [
    "# Mean imputation for numerical columns\n",
    "for column in dataset.columns:\n",
    "    if dataset[column].dtype in ['int64', 'float64']:\n",
    "        dataset[column].fillna(dataset[column].mean(), inplace=True)"
   ]
  },
  {
   "cell_type": "code",
   "execution_count": 87,
   "id": "7141cd8a",
   "metadata": {},
   "outputs": [],
   "source": [
    "# mode imputation for numerical columns\n",
    "for column in dataset.columns:\n",
    "    if dataset[column].dtype in ['object']:\n",
    "        dataset[column].fillna(dataset[column].mode()[0], inplace=True)"
   ]
  },
  {
   "cell_type": "code",
   "execution_count": 88,
   "id": "9046c8fe",
   "metadata": {},
   "outputs": [
    {
     "data": {
      "text/plain": [
       "work_year             0\n",
       "experience_level      0\n",
       "employment_type       0\n",
       "job_title             0\n",
       "salary_currency       0\n",
       "salary_in_usd         0\n",
       "employee_residence    0\n",
       "remote_ratio          0\n",
       "company_location      0\n",
       "company_size          0\n",
       "salary                0\n",
       "dtype: int64"
      ]
     },
     "execution_count": 88,
     "metadata": {},
     "output_type": "execute_result"
    }
   ],
   "source": [
    "# Check for missing values\n",
    "dataset.isnull().sum()"
   ]
  },
  {
   "cell_type": "markdown",
   "id": "35643fc3",
   "metadata": {},
   "source": [
    "#### 4)Outlier Detection and Treatment"
   ]
  },
  {
   "cell_type": "code",
   "execution_count": 89,
   "id": "4f572083",
   "metadata": {},
   "outputs": [
    {
     "name": "stdout",
     "output_type": "stream",
     "text": [
      "Numerical columns: Index(['work_year', 'salary_in_usd', 'remote_ratio', 'salary'], dtype='object')\n"
     ]
    }
   ],
   "source": [
    "# Identify numerical columns\n",
    "numerical_columns = dataset.select_dtypes(include=[np.number]).columns\n",
    "print(f\"Numerical columns: {numerical_columns}\")"
   ]
  },
  {
   "cell_type": "code",
   "execution_count": 90,
   "id": "662a1bb7",
   "metadata": {},
   "outputs": [],
   "source": [
    "# Calculate quartiles and IQR for each column\n",
    "Q1 = dataset[numerical_columns].quantile(0.25)\n",
    "Q3 = dataset[numerical_columns].quantile(0.75)\n",
    "IQR = Q3 - Q1\n"
   ]
  },
  {
   "cell_type": "code",
   "execution_count": 91,
   "id": "86bd125e",
   "metadata": {},
   "outputs": [],
   "source": [
    "# Define the boundaries to identify outliers for each column\n",
    "lower_bound = Q1 - 1.5 * IQR\n",
    "upper_bound = Q3 + 1.5 * IQR"
   ]
  },
  {
   "cell_type": "code",
   "execution_count": 92,
   "id": "b50226a7",
   "metadata": {},
   "outputs": [],
   "source": [
    "# Handling outliers using NumPy for each column\n",
    "for col in dataset[numerical_columns]:\n",
    "    dataset[col] = np.where(dataset[col] < lower_bound[col], lower_bound[col], np.where(dataset[col] > upper_bound[col], upper_bound[col], dataset[col]))"
   ]
  },
  {
   "cell_type": "markdown",
   "id": "c2b6c82a",
   "metadata": {},
   "source": [
    "#### 5)Encoding Categorical Variables"
   ]
  },
  {
   "cell_type": "code",
   "execution_count": 93,
   "id": "9f26d623",
   "metadata": {},
   "outputs": [],
   "source": [
    "from sklearn.preprocessing import LabelEncoder"
   ]
  },
  {
   "cell_type": "code",
   "execution_count": 94,
   "id": "f5c594d3",
   "metadata": {},
   "outputs": [],
   "source": [
    "# Initialize the LabelEncoder\n",
    "label_encoder = LabelEncoder()"
   ]
  },
  {
   "cell_type": "code",
   "execution_count": 95,
   "id": "837e5fed",
   "metadata": {},
   "outputs": [],
   "source": [
    "# Loop through each column in the DataFrame\n",
    "for column in dataset.columns:\n",
    "    if dataset[column].dtype == 'object':  \n",
    "        dataset[column] = label_encoder.fit_transform(dataset[column])"
   ]
  },
  {
   "cell_type": "code",
   "execution_count": 96,
   "id": "c37249cf",
   "metadata": {},
   "outputs": [
    {
     "data": {
      "text/html": [
       "<div>\n",
       "<style scoped>\n",
       "    .dataframe tbody tr th:only-of-type {\n",
       "        vertical-align: middle;\n",
       "    }\n",
       "\n",
       "    .dataframe tbody tr th {\n",
       "        vertical-align: top;\n",
       "    }\n",
       "\n",
       "    .dataframe thead th {\n",
       "        text-align: right;\n",
       "    }\n",
       "</style>\n",
       "<table border=\"1\" class=\"dataframe\">\n",
       "  <thead>\n",
       "    <tr style=\"text-align: right;\">\n",
       "      <th></th>\n",
       "      <th>work_year</th>\n",
       "      <th>experience_level</th>\n",
       "      <th>employment_type</th>\n",
       "      <th>job_title</th>\n",
       "      <th>salary_currency</th>\n",
       "      <th>salary_in_usd</th>\n",
       "      <th>employee_residence</th>\n",
       "      <th>remote_ratio</th>\n",
       "      <th>company_location</th>\n",
       "      <th>company_size</th>\n",
       "      <th>salary</th>\n",
       "    </tr>\n",
       "  </thead>\n",
       "  <tbody>\n",
       "    <tr>\n",
       "      <th>0</th>\n",
       "      <td>2024.0</td>\n",
       "      <td>3</td>\n",
       "      <td>2</td>\n",
       "      <td>3</td>\n",
       "      <td>21</td>\n",
       "      <td>202730.0</td>\n",
       "      <td>84</td>\n",
       "      <td>0.0</td>\n",
       "      <td>74</td>\n",
       "      <td>1</td>\n",
       "      <td>202730.0</td>\n",
       "    </tr>\n",
       "    <tr>\n",
       "      <th>4</th>\n",
       "      <td>2024.0</td>\n",
       "      <td>3</td>\n",
       "      <td>2</td>\n",
       "      <td>58</td>\n",
       "      <td>21</td>\n",
       "      <td>130500.0</td>\n",
       "      <td>84</td>\n",
       "      <td>0.0</td>\n",
       "      <td>74</td>\n",
       "      <td>1</td>\n",
       "      <td>130500.0</td>\n",
       "    </tr>\n",
       "    <tr>\n",
       "      <th>5</th>\n",
       "      <td>2024.0</td>\n",
       "      <td>3</td>\n",
       "      <td>2</td>\n",
       "      <td>58</td>\n",
       "      <td>21</td>\n",
       "      <td>96000.0</td>\n",
       "      <td>84</td>\n",
       "      <td>0.0</td>\n",
       "      <td>74</td>\n",
       "      <td>1</td>\n",
       "      <td>96000.0</td>\n",
       "    </tr>\n",
       "    <tr>\n",
       "      <th>6</th>\n",
       "      <td>2024.0</td>\n",
       "      <td>3</td>\n",
       "      <td>2</td>\n",
       "      <td>121</td>\n",
       "      <td>21</td>\n",
       "      <td>190000.0</td>\n",
       "      <td>84</td>\n",
       "      <td>0.0</td>\n",
       "      <td>74</td>\n",
       "      <td>1</td>\n",
       "      <td>190000.0</td>\n",
       "    </tr>\n",
       "    <tr>\n",
       "      <th>7</th>\n",
       "      <td>2024.0</td>\n",
       "      <td>3</td>\n",
       "      <td>2</td>\n",
       "      <td>121</td>\n",
       "      <td>21</td>\n",
       "      <td>160000.0</td>\n",
       "      <td>84</td>\n",
       "      <td>0.0</td>\n",
       "      <td>74</td>\n",
       "      <td>1</td>\n",
       "      <td>160000.0</td>\n",
       "    </tr>\n",
       "  </tbody>\n",
       "</table>\n",
       "</div>"
      ],
      "text/plain": [
       "   work_year  experience_level  employment_type  job_title  salary_currency  \\\n",
       "0     2024.0                 3                2          3               21   \n",
       "4     2024.0                 3                2         58               21   \n",
       "5     2024.0                 3                2         58               21   \n",
       "6     2024.0                 3                2        121               21   \n",
       "7     2024.0                 3                2        121               21   \n",
       "\n",
       "   salary_in_usd  employee_residence  remote_ratio  company_location  \\\n",
       "0       202730.0                  84           0.0                74   \n",
       "4       130500.0                  84           0.0                74   \n",
       "5        96000.0                  84           0.0                74   \n",
       "6       190000.0                  84           0.0                74   \n",
       "7       160000.0                  84           0.0                74   \n",
       "\n",
       "   company_size    salary  \n",
       "0             1  202730.0  \n",
       "4             1  130500.0  \n",
       "5             1   96000.0  \n",
       "6             1  190000.0  \n",
       "7             1  160000.0  "
      ]
     },
     "execution_count": 96,
     "metadata": {},
     "output_type": "execute_result"
    }
   ],
   "source": [
    "dataset.head()"
   ]
  },
  {
   "cell_type": "markdown",
   "id": "6487bbcb",
   "metadata": {},
   "source": [
    "#### 6)Standardize or Normalize Data"
   ]
  },
  {
   "cell_type": "code",
   "execution_count": 97,
   "id": "03d8fcb0",
   "metadata": {},
   "outputs": [],
   "source": [
    "from sklearn.preprocessing import MinMaxScaler"
   ]
  },
  {
   "cell_type": "code",
   "execution_count": 98,
   "id": "cc568a56",
   "metadata": {},
   "outputs": [],
   "source": [
    "# Initialize the MinMaxScaler\n",
    "min_max_scaler = MinMaxScaler()"
   ]
  },
  {
   "cell_type": "code",
   "execution_count": 99,
   "id": "50ebe9ed",
   "metadata": {},
   "outputs": [],
   "source": [
    "# Fit and transform the numerical columns\n",
    "dataset = min_max_scaler.fit_transform(dataset)"
   ]
  },
  {
   "cell_type": "code",
   "execution_count": 100,
   "id": "e533de36",
   "metadata": {},
   "outputs": [
    {
     "name": "stdout",
     "output_type": "stream",
     "text": [
      "[[1.         1.         0.66666667 ... 0.97368421 0.5        0.6061044 ]\n",
      " [1.         1.         0.66666667 ... 0.97368421 0.5        0.37413852]\n",
      " [1.         1.         0.66666667 ... 0.97368421 0.5        0.26334213]\n",
      " ...\n",
      " [0.         0.         0.66666667 ... 0.97368421 1.         0.29224554]\n",
      " [0.         0.         0.         ... 0.97368421 0.         0.27618809]\n",
      " [0.         1.         0.66666667 ... 0.5        0.         1.        ]]\n"
     ]
    }
   ],
   "source": [
    "print(dataset)"
   ]
  },
  {
   "cell_type": "code",
   "execution_count": null,
   "id": "b5655173",
   "metadata": {},
   "outputs": [],
   "source": []
  },
  {
   "cell_type": "markdown",
   "id": "0c7accd9",
   "metadata": {},
   "source": [
    "#### Split into data and teaget\n"
   ]
  },
  {
   "cell_type": "code",
   "execution_count": 121,
   "id": "a8e3367d",
   "metadata": {},
   "outputs": [],
   "source": [
    "# split into data and teaget\n",
    "data_x = dataset[:,:-1]\n",
    "data_y = dataset[:,-1]"
   ]
  },
  {
   "cell_type": "code",
   "execution_count": 122,
   "id": "3c20ade5",
   "metadata": {},
   "outputs": [
    {
     "data": {
      "text/plain": [
       "array([[1.        , 1.        , 0.66666667, ..., 0.        , 0.97368421,\n",
       "        0.5       ],\n",
       "       [1.        , 1.        , 0.66666667, ..., 0.        , 0.97368421,\n",
       "        0.5       ],\n",
       "       [1.        , 1.        , 0.66666667, ..., 0.        , 0.97368421,\n",
       "        0.5       ],\n",
       "       ...,\n",
       "       [0.        , 0.        , 0.66666667, ..., 0.4       , 0.97368421,\n",
       "        1.        ],\n",
       "       [0.        , 0.        , 0.        , ..., 0.4       , 0.97368421,\n",
       "        0.        ],\n",
       "       [0.        , 1.        , 0.66666667, ..., 0.2       , 0.5       ,\n",
       "        0.        ]])"
      ]
     },
     "execution_count": 122,
     "metadata": {},
     "output_type": "execute_result"
    }
   ],
   "source": [
    "data_x"
   ]
  },
  {
   "cell_type": "code",
   "execution_count": 123,
   "id": "20f090f2",
   "metadata": {},
   "outputs": [
    {
     "data": {
      "text/plain": [
       "array([0.6061044 , 0.37413852, 0.26334213, ..., 0.29224554, 0.27618809,\n",
       "       1.        ])"
      ]
     },
     "execution_count": 123,
     "metadata": {},
     "output_type": "execute_result"
    }
   ],
   "source": [
    "data_y"
   ]
  },
  {
   "cell_type": "code",
   "execution_count": 120,
   "id": "254fca56",
   "metadata": {},
   "outputs": [],
   "source": [
    "# Feature selection \n",
    "from sklearn.feature_selection import SelectPercentile,f_classif"
   ]
  },
  {
   "cell_type": "code",
   "execution_count": 124,
   "id": "7ba4df80",
   "metadata": {},
   "outputs": [
    {
     "data": {
      "text/plain": [
       "(10592, 10)"
      ]
     },
     "execution_count": 124,
     "metadata": {},
     "output_type": "execute_result"
    }
   ],
   "source": [
    "data_x.shape"
   ]
  },
  {
   "cell_type": "code",
   "execution_count": 125,
   "id": "c1701447",
   "metadata": {},
   "outputs": [],
   "source": [
    "select = SelectPercentile(score_func=f_classif,percentile=70).fit_transform(data_x,data_y)"
   ]
  },
  {
   "cell_type": "code",
   "execution_count": 126,
   "id": "26e211b2",
   "metadata": {},
   "outputs": [],
   "source": [
    "data_x = select"
   ]
  },
  {
   "cell_type": "code",
   "execution_count": 127,
   "id": "1ef5ddff",
   "metadata": {},
   "outputs": [
    {
     "data": {
      "text/plain": [
       "(10592, 7)"
      ]
     },
     "execution_count": 127,
     "metadata": {},
     "output_type": "execute_result"
    }
   ],
   "source": [
    "data_x.shape"
   ]
  },
  {
   "cell_type": "code",
   "execution_count": 128,
   "id": "54fe7588",
   "metadata": {},
   "outputs": [],
   "source": [
    "# split int train and test\n",
    "from sklearn.model_selection import train_test_split"
   ]
  },
  {
   "cell_type": "code",
   "execution_count": 129,
   "id": "692a7f06",
   "metadata": {},
   "outputs": [],
   "source": [
    "x_train,x_test,y_train,y_test = train_test_split(data_x,data_y,test_size=0.3,random_state = 88)"
   ]
  },
  {
   "cell_type": "code",
   "execution_count": 131,
   "id": "1d13db33",
   "metadata": {},
   "outputs": [],
   "source": [
    "# KNN\n",
    "from sklearn.neighbors import KNeighborsRegressor"
   ]
  },
  {
   "cell_type": "code",
   "execution_count": 132,
   "id": "532d5cf9",
   "metadata": {},
   "outputs": [],
   "source": [
    "knn = KNeighborsRegressor(n_neighbors=5,weights='distance',algorithm='auto').fit(x_train,y_train)"
   ]
  },
  {
   "cell_type": "code",
   "execution_count": 134,
   "id": "44f54ccd",
   "metadata": {},
   "outputs": [
    {
     "name": "stdout",
     "output_type": "stream",
     "text": [
      "Train Accuracy  0.9998596333045258\n"
     ]
    }
   ],
   "source": [
    "# train accuracy\n",
    "print(\"Train Accuracy \",knn.score(x_train,y_train))"
   ]
  },
  {
   "cell_type": "code",
   "execution_count": 135,
   "id": "57c7d40a",
   "metadata": {},
   "outputs": [
    {
     "name": "stdout",
     "output_type": "stream",
     "text": [
      "Test Accuracy  0.9589242539018782\n"
     ]
    }
   ],
   "source": [
    "# Test accuracy\n",
    "print(\"Test Accuracy \",knn.score(x_test,y_test))"
   ]
  },
  {
   "cell_type": "code",
   "execution_count": 136,
   "id": "04fc8fc2",
   "metadata": {},
   "outputs": [],
   "source": [
    "# git y Predict\n",
    "y_pred = knn.predict(x_test)"
   ]
  },
  {
   "cell_type": "code",
   "execution_count": 137,
   "id": "055c91fe",
   "metadata": {},
   "outputs": [
    {
     "name": "stdout",
     "output_type": "stream",
     "text": [
      "0.0111904860088567\n"
     ]
    }
   ],
   "source": [
    "# Mean Absolute  Error\n",
    "from sklearn.metrics import mean_absolute_error as me\n",
    "print(me(y_test,y_pred))"
   ]
  },
  {
   "cell_type": "code",
   "execution_count": null,
   "id": "e0f4aa6f",
   "metadata": {},
   "outputs": [],
   "source": []
  }
 ],
 "metadata": {
  "kernelspec": {
   "display_name": "Python 3 (ipykernel)",
   "language": "python",
   "name": "python3"
  },
  "language_info": {
   "codemirror_mode": {
    "name": "ipython",
    "version": 3
   },
   "file_extension": ".py",
   "mimetype": "text/x-python",
   "name": "python",
   "nbconvert_exporter": "python",
   "pygments_lexer": "ipython3",
   "version": "3.11.5"
  }
 },
 "nbformat": 4,
 "nbformat_minor": 5
}
